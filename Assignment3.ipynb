{
 "cells": [
  {
   "cell_type": "code",
   "execution_count": null,
   "id": "e6699c9b-3ee2-46d0-aeab-a127fe9a2f92",
   "metadata": {},
   "outputs": [],
   "source": [
    "# Question 1"
   ]
  },
  {
   "cell_type": "code",
   "execution_count": 2,
   "id": "6bea58df-43b1-4b6d-b945-fcef280257c7",
   "metadata": {},
   "outputs": [],
   "source": [
    "def odd_in(a):\n",
    "    templ = []\n",
    "    for i in range(a):\n",
    "        if i % 2 == 0:\n",
    "            continue\n",
    "        else :\n",
    "            templ.append(i)\n",
    "    return templ"
   ]
  },
  {
   "cell_type": "code",
   "execution_count": 4,
   "id": "eb093a2f-4ab5-447d-9459-b7fc142c7fe2",
   "metadata": {},
   "outputs": [
    {
     "data": {
      "text/plain": [
       "[1, 3, 5, 7, 9, 11, 13, 15, 17, 19, 21, 23]"
      ]
     },
     "execution_count": 4,
     "metadata": {},
     "output_type": "execute_result"
    }
   ],
   "source": [
    "odd_in(25)"
   ]
  },
  {
   "cell_type": "code",
   "execution_count": 5,
   "id": "2a815c35-2ed4-46b7-80bc-82ec752d56d5",
   "metadata": {},
   "outputs": [],
   "source": [
    "#Question 2"
   ]
  },
  {
   "cell_type": "code",
   "execution_count": 6,
   "id": "868e46ff-614c-41b2-9d61-cb676cf16f0a",
   "metadata": {},
   "outputs": [],
   "source": [
    "\"\"\" '*arg' use to send any number of argument without keyword into the function which are stored in the function in a tuple\"\"\"\n",
    "def add_nums(*n):\n",
    "    total = 0\n",
    "    for i in n:\n",
    "        total = total + i\n",
    "    return total"
   ]
  },
  {
   "cell_type": "code",
   "execution_count": 7,
   "id": "b655a455-695d-495d-a9bf-e96d04e96cd9",
   "metadata": {},
   "outputs": [
    {
     "data": {
      "text/plain": [
       "27"
      ]
     },
     "execution_count": 7,
     "metadata": {},
     "output_type": "execute_result"
    }
   ],
   "source": [
    "add_nums(2,3,4,5,6,7)"
   ]
  },
  {
   "cell_type": "code",
   "execution_count": 20,
   "id": "b39b0744-8695-41d2-9211-43216fb6cafc",
   "metadata": {},
   "outputs": [],
   "source": [
    "\"\"\" '**arg' use to send any number of argument with keyword into the function which are stored in the function in a dictionary\"\"\"\n",
    "def bill(**products):\n",
    "    bil = products\n",
    "    total = 0\n",
    "    for key in  products:\n",
    "        total = total + products[key]\n",
    "    # bil['total'] = total\n",
    "#    another way\n",
    "    bil.update({'total' : total})\n",
    "    \n",
    "    \n",
    "    return bil\n"
   ]
  },
  {
   "cell_type": "code",
   "execution_count": 21,
   "id": "2b2f92a6-1047-46d7-8ba1-5fe79ab98b4c",
   "metadata": {},
   "outputs": [
    {
     "data": {
      "text/plain": [
       "{'Tomato': 30, 'potato': 60, 'onion': 40, 'total': 130}"
      ]
     },
     "execution_count": 21,
     "metadata": {},
     "output_type": "execute_result"
    }
   ],
   "source": [
    "bill(Tomato = 30,potato = 60,onion = 40)"
   ]
  },
  {
   "cell_type": "code",
   "execution_count": 85,
   "id": "6e0624e1-68f3-49ec-8cdb-ba5bcda4a1a3",
   "metadata": {},
   "outputs": [],
   "source": [
    "#Question 3"
   ]
  },
  {
   "cell_type": "code",
   "execution_count": 34,
   "id": "1d7541df-227d-44df-86a7-246f70e7f0b1",
   "metadata": {},
   "outputs": [
    {
     "data": {
      "text/plain": [
       "[0, 1, 2, 3, 4, 5, 6, 7, 8, 9, 10, 11, 12, 13, 14, 15, 16, 17, 18, 19, 20]"
      ]
     },
     "execution_count": 34,
     "metadata": {},
     "output_type": "execute_result"
    }
   ],
   "source": [
    "l = []\n",
    "for i in range(21):\n",
    "    l.append(i)\n",
    "l"
   ]
  },
  {
   "cell_type": "code",
   "execution_count": 66,
   "id": "ba9db734-1ece-40df-ae23-d0105db1b702",
   "metadata": {},
   "outputs": [
    {
     "data": {
      "text/plain": [
       "<list_iterator at 0x7f28fc3a8760>"
      ]
     },
     "execution_count": 66,
     "metadata": {},
     "output_type": "execute_result"
    }
   ],
   "source": [
    "leven = iter(l[2::2])\n",
    "leven"
   ]
  },
  {
   "cell_type": "code",
   "execution_count": 65,
   "id": "467aedbd-7402-49a6-a951-1f1e6a94e76e",
   "metadata": {},
   "outputs": [
    {
     "name": "stdout",
     "output_type": "stream",
     "text": [
      "12\n",
      "14\n",
      "16\n",
      "18\n",
      "20\n"
     ]
    }
   ],
   "source": [
    "for i in range(5):\n",
    "    print(next(leven))"
   ]
  },
  {
   "cell_type": "code",
   "execution_count": 55,
   "id": "3e7d60cc-be40-4f9c-8677-2193cc8f68de",
   "metadata": {},
   "outputs": [
    {
     "name": "stdout",
     "output_type": "stream",
     "text": [
      "T\n",
      "r\n",
      "i\n",
      "d\n",
      "i\n",
      "b\n",
      "e\n",
      "s\n",
      "h\n",
      " \n",
      "S\n",
      "a\n",
      "s\n",
      "t\n",
      "r\n",
      "i\n"
     ]
    }
   ],
   "source": [
    "s = \"Tridibesh Sastri\"\n",
    "for i in s:\n",
    "    print(i)"
   ]
  },
  {
   "cell_type": "code",
   "execution_count": 56,
   "id": "2a88a166-2f58-45a7-8c86-8f6361d3d790",
   "metadata": {},
   "outputs": [
    {
     "name": "stdout",
     "output_type": "stream",
     "text": [
      "T\n"
     ]
    }
   ],
   "source": [
    "print(next(iter(s)))"
   ]
  },
  {
   "cell_type": "code",
   "execution_count": 57,
   "id": "b6d13913-6db8-44ed-b022-d47eb0ee4ad3",
   "metadata": {},
   "outputs": [
    {
     "name": "stdout",
     "output_type": "stream",
     "text": [
      "T\n",
      "r\n",
      "i\n",
      "d\n",
      "i\n"
     ]
    }
   ],
   "source": [
    "s1 = iter(s)\n",
    "for i in range(5):\n",
    "    print(next(s1))"
   ]
  },
  {
   "cell_type": "code",
   "execution_count": 58,
   "id": "165887eb-68b8-4a5c-9910-a3f7e1fa42b3",
   "metadata": {},
   "outputs": [
    {
     "data": {
      "text/plain": [
       "str_iterator"
      ]
     },
     "execution_count": 58,
     "metadata": {},
     "output_type": "execute_result"
    }
   ],
   "source": [
    "type(s1)"
   ]
  },
  {
   "cell_type": "code",
   "execution_count": 59,
   "id": "a00cdd01-2463-45ec-bc03-8a9e5c15abfc",
   "metadata": {},
   "outputs": [
    {
     "data": {
      "text/plain": [
       "str"
      ]
     },
     "execution_count": 59,
     "metadata": {},
     "output_type": "execute_result"
    }
   ],
   "source": [
    "type(s)"
   ]
  },
  {
   "cell_type": "code",
   "execution_count": 86,
   "id": "60d048a7-cae2-4a24-8808-790b3f46ba59",
   "metadata": {},
   "outputs": [],
   "source": [
    "#Question 4"
   ]
  },
  {
   "cell_type": "code",
   "execution_count": 67,
   "id": "fee3a0b9-9b0f-4945-a621-4e8acd6f2754",
   "metadata": {},
   "outputs": [
    {
     "name": "stdout",
     "output_type": "stream",
     "text": [
      "1\n",
      "4\n",
      "9\n",
      "16\n",
      "25\n",
      "36\n",
      "49\n",
      "64\n",
      "81\n",
      "100\n",
      "121\n",
      "144\n",
      "169\n",
      "196\n",
      "225\n",
      "256\n",
      "289\n",
      "324\n",
      "361\n",
      "400\n"
     ]
    }
   ],
   "source": [
    "\"\"\"A generator function in Python is a special kind of iterator that allows you to iterate over a \n",
    "potentially large sequence of data without creating and storing the entire sequence in memory at once. \n",
    "It generates values one at a time and only when requested. Generator functions are defined like \n",
    "regular functions but contain one or more yield statements.\n",
    "\n",
    "The yield keyword is used in generator functions to yield a value to the caller of the generator, \n",
    "and the function's state is saved. When the generator is called again, it resumes execution right \n",
    "after the yield statement, allowing the function to continue from where it left off.\"\"\"\n",
    "\n",
    "def generate_sqr(limit):\n",
    "    n = 1\n",
    "    while n<= limit:\n",
    "        yield n**2\n",
    "        n += 1\n",
    "        \n",
    "for i in generate_sqr(20):\n",
    "    print(i)"
   ]
  },
  {
   "cell_type": "code",
   "execution_count": 76,
   "id": "e694db68-ab6a-499e-b23d-8b962e1974c8",
   "metadata": {},
   "outputs": [
    {
     "name": "stdout",
     "output_type": "stream",
     "text": [
      "1\n",
      "2\n",
      "6\n",
      "42\n",
      "1806\n",
      "3263442\n",
      "10650056950806\n",
      "113423713055421844361000442\n",
      "12864938683278671740537145998360961546653259485195806\n",
      "165506647324519964198468195444439180017513152706377497841851388766535868639572406808911988131737645185442\n"
     ]
    }
   ],
   "source": [
    "def sqr_sqnc(limit):\n",
    "    n = 1\n",
    "    for i in range(limit):\n",
    "        yield n\n",
    "        n *= n+1\n",
    "        \n",
    "for i in sqr_sqnc(10):\n",
    "    print(i)"
   ]
  },
  {
   "cell_type": "code",
   "execution_count": 16,
   "id": "b700d7c8-7ab0-4cec-8e88-092b1799c8f5",
   "metadata": {},
   "outputs": [
    {
     "name": "stdout",
     "output_type": "stream",
     "text": [
      "0\n",
      "1\n",
      "1\n",
      "4\n",
      "3\n",
      "25\n",
      "8\n",
      "169\n",
      "21\n",
      "1156\n",
      "55\n",
      "7921\n",
      "144\n",
      "54289\n",
      "377\n",
      "372100\n",
      "987\n",
      "2550409\n",
      "2584\n",
      "17480761\n",
      "0\n"
     ]
    }
   ],
   "source": [
    "def test_1(limit):\n",
    "    n = 0\n",
    "    m = 1\n",
    "    for i in range(limit):\n",
    "        yield n\n",
    "        yield m**2\n",
    "        n += m\n",
    "        m += n\n",
    "        \n",
    "for i in test_1(10):\n",
    "    print(i)\n",
    "print(next(test_1(10)))"
   ]
  },
  {
   "cell_type": "code",
   "execution_count": 87,
   "id": "81c9af2d-75ba-44fc-9cbb-63f81d0ac9d0",
   "metadata": {},
   "outputs": [],
   "source": [
    "#Question 5"
   ]
  },
  {
   "cell_type": "code",
   "execution_count": 89,
   "id": "445ad994-63bf-4310-8803-4b338df6a4e2",
   "metadata": {},
   "outputs": [
    {
     "name": "stdout",
     "output_type": "stream",
     "text": [
      "0\n",
      "1\n",
      "2\n",
      "3\n",
      "4\n",
      "5\n",
      "6\n",
      "7\n",
      "8\n",
      "9\n"
     ]
    }
   ],
   "source": [
    "for i  in range(10):\n",
    "    print(i)"
   ]
  },
  {
   "cell_type": "code",
   "execution_count": 25,
   "id": "ef92b06a-4a3a-4f39-b5da-2970dbcffad8",
   "metadata": {},
   "outputs": [
    {
     "name": "stdout",
     "output_type": "stream",
     "text": [
      "1\n",
      "1\n",
      "1\n",
      "1\n",
      "1\n",
      "1\n",
      "1\n",
      "1\n",
      "1\n",
      "1\n"
     ]
    }
   ],
   "source": [
    "def prime(n):\n",
    "    i = 1\n",
    "    while i <= n:\n",
    "        flag = True\n",
    "        j = 2\n",
    "        while j < i:\n",
    "            if i % j == 0:\n",
    "                flag = False\n",
    "            j = j + 1\n",
    "        if flag == True:\n",
    "            yield i\n",
    "        i = i+1\n",
    "        \n",
    "for i in range(10):\n",
    "    print(next(prime(1000)))"
   ]
  },
  {
   "cell_type": "code",
   "execution_count": 26,
   "id": "f9fbcb06-face-4933-ba17-937414a46bba",
   "metadata": {},
   "outputs": [
    {
     "name": "stdout",
     "output_type": "stream",
     "text": [
      "1\n",
      "2\n",
      "3\n",
      "5\n",
      "7\n",
      "11\n",
      "13\n",
      "17\n",
      "19\n",
      "23\n"
     ]
    }
   ],
   "source": [
    "a = prime(1000)\n",
    "for i in range(10):\n",
    "    print(next(a))"
   ]
  },
  {
   "cell_type": "code",
   "execution_count": 20,
   "id": "a82f2986-474e-412d-9c52-9ec383f21645",
   "metadata": {},
   "outputs": [
    {
     "name": "stdout",
     "output_type": "stream",
     "text": [
      "0\n",
      "0\n",
      "0\n",
      "0\n",
      "0\n",
      "0\n",
      "0\n",
      "0\n",
      "0\n",
      "0\n"
     ]
    }
   ],
   "source": [
    "for i in range(10):\n",
    "    print(next(iter(range(10))))"
   ]
  },
  {
   "cell_type": "code",
   "execution_count": 22,
   "id": "fdcf8c92-2184-4b57-bc1b-0e15021234a0",
   "metadata": {},
   "outputs": [
    {
     "name": "stdout",
     "output_type": "stream",
     "text": [
      "0\n",
      "1\n",
      "2\n",
      "3\n",
      "4\n",
      "5\n",
      "6\n",
      "7\n",
      "8\n",
      "9\n"
     ]
    }
   ],
   "source": [
    "b = iter(range(10))\n",
    "for i in range(10):\n",
    "    print(next(b))"
   ]
  },
  {
   "cell_type": "code",
   "execution_count": 1,
   "id": "d2f7a455-90c9-4675-a50a-9bb94095f2bc",
   "metadata": {},
   "outputs": [],
   "source": [
    "#Question 6"
   ]
  },
  {
   "cell_type": "code",
   "execution_count": 2,
   "id": "551512a4-89e9-487b-908e-67c9b0944cb3",
   "metadata": {},
   "outputs": [
    {
     "name": "stdout",
     "output_type": "stream",
     "text": [
      "0\n",
      "1\n",
      "1\n",
      "2\n",
      "3\n",
      "5\n",
      "8\n",
      "13\n",
      "21\n",
      "34\n"
     ]
    }
   ],
   "source": [
    "a = 0\n",
    "b = 1\n",
    "i = 1\n",
    "while i <= 10:\n",
    "    print(a)\n",
    "    temp = a\n",
    "    a = b\n",
    "    b = temp + b\n",
    "    i += 1\n",
    "    "
   ]
  },
  {
   "cell_type": "code",
   "execution_count": 3,
   "id": "831c1e0c-89ac-4f0d-91cf-23a19f523aed",
   "metadata": {},
   "outputs": [],
   "source": [
    "#Question 7 "
   ]
  },
  {
   "cell_type": "code",
   "execution_count": 4,
   "id": "c6e65aed-c37d-4dce-9c5d-f6bbe77cd9ab",
   "metadata": {},
   "outputs": [],
   "source": [
    "s = \"pwskills\"\n",
    "l = []\n",
    "for i in s:\n",
    "    l.append(i)"
   ]
  },
  {
   "cell_type": "code",
   "execution_count": 5,
   "id": "ee108df8-bfb0-47ce-b921-2d80b307c1cd",
   "metadata": {},
   "outputs": [
    {
     "data": {
      "text/plain": [
       "['p', 'w', 's', 'k', 'i', 'l', 'l', 's']"
      ]
     },
     "execution_count": 5,
     "metadata": {},
     "output_type": "execute_result"
    }
   ],
   "source": [
    "l"
   ]
  },
  {
   "cell_type": "code",
   "execution_count": 6,
   "id": "e0c2f9cf-195a-4da4-94b0-a2f389b8afad",
   "metadata": {},
   "outputs": [],
   "source": [
    "#Question 8"
   ]
  },
  {
   "cell_type": "code",
   "execution_count": 11,
   "id": "5e2a9aab-8496-4558-97d8-bdfdaf5c176d",
   "metadata": {},
   "outputs": [
    {
     "data": {
      "text/plain": [
       "'s'"
      ]
     },
     "execution_count": 11,
     "metadata": {},
     "output_type": "execute_result"
    }
   ],
   "source": [
    "s[len(s) - 1]"
   ]
  },
  {
   "cell_type": "code",
   "execution_count": 17,
   "id": "e4963a26-13de-49e7-9507-01dfa33c4889",
   "metadata": {},
   "outputs": [
    {
     "name": "stdin",
     "output_type": "stream",
     "text": [
      " abcbca\n"
     ]
    },
    {
     "name": "stdout",
     "output_type": "stream",
     "text": [
      "abcbca is not a palindrome\n"
     ]
    }
   ],
   "source": [
    "s1 = input()\n",
    "n = len(s1) - 1\n",
    "i = 0\n",
    "flag = True\n",
    "while i <= n//2 :\n",
    "    if s1[i] != s1[n - i]:\n",
    "        flag = False\n",
    "        break\n",
    "    # else: flag = True\n",
    "    i +=1\n",
    "if flag == True :\n",
    "    print(s1 + \" is a palindrome\")\n",
    "else : print(s1 + \" is not a palindrome\")\n"
   ]
  },
  {
   "cell_type": "code",
   "execution_count": 25,
   "id": "ab31c9cf-b526-4ca7-981b-e4564b2ea9f4",
   "metadata": {},
   "outputs": [
    {
     "name": "stdin",
     "output_type": "stream",
     "text": [
      " 1234321\n"
     ]
    },
    {
     "name": "stdout",
     "output_type": "stream",
     "text": [
      "1 1\n",
      "0\n",
      "2 2\n",
      "1\n",
      "3 3\n",
      "2\n",
      "4 4\n",
      "3\n",
      "1234321 is a palindrome\n"
     ]
    }
   ],
   "source": [
    "# modified version\n",
    "s2 = input()\n",
    "m = len(s2) - 1\n",
    "i = 0\n",
    "while i <= m//2:\n",
    "    print(s2[i] + \" \" + s2[m-i])\n",
    "    print(i)\n",
    "    if s2[i] != s2[m-i]:\n",
    "        print(s2 + \" is not a palindrome\")\n",
    "        break\n",
    "    i+=1\n",
    "else : print(s2 + \" is a palindrome\")"
   ]
  },
  {
   "cell_type": "code",
   "execution_count": 26,
   "id": "321425d4-2787-4a06-a1f6-b477ec3c2a47",
   "metadata": {},
   "outputs": [],
   "source": [
    "#Question 9"
   ]
  },
  {
   "cell_type": "code",
   "execution_count": 27,
   "id": "c6bd02c3-0e46-4842-8f28-90f826a3fe81",
   "metadata": {},
   "outputs": [],
   "source": [
    "l = [ i for i in range(101)]\n",
    "odd = [ i for num "
   ]
  },
  {
   "cell_type": "code",
   "execution_count": null,
   "id": "fdba5a66-ecfa-44f1-9a7d-45493f176b8b",
   "metadata": {},
   "outputs": [],
   "source": []
  }
 ],
 "metadata": {
  "kernelspec": {
   "display_name": "Python 3 (ipykernel)",
   "language": "python",
   "name": "python3"
  },
  "language_info": {
   "codemirror_mode": {
    "name": "ipython",
    "version": 3
   },
   "file_extension": ".py",
   "mimetype": "text/x-python",
   "name": "python",
   "nbconvert_exporter": "python",
   "pygments_lexer": "ipython3",
   "version": "3.10.8"
  }
 },
 "nbformat": 4,
 "nbformat_minor": 5
}
